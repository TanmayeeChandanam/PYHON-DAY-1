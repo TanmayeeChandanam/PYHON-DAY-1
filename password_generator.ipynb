{
  "nbformat": 4,
  "nbformat_minor": 0,
  "metadata": {
    "colab": {
      "provenance": [],
      "authorship_tag": "ABX9TyNnQvasUU136p2s5Kx7UgbR",
      "include_colab_link": true
    },
    "kernelspec": {
      "name": "python3",
      "display_name": "Python 3"
    },
    "language_info": {
      "name": "python"
    }
  },
  "cells": [
    {
      "cell_type": "markdown",
      "metadata": {
        "id": "view-in-github",
        "colab_type": "text"
      },
      "source": [
        "<a href=\"https://colab.research.google.com/github/TanmayeeChandanam/PYHON-DAY-1/blob/main/password_generator.ipynb\" target=\"_parent\"><img src=\"https://colab.research.google.com/assets/colab-badge.svg\" alt=\"Open In Colab\"/></a>"
      ]
    },
    {
      "cell_type": "code",
      "execution_count": 1,
      "metadata": {
        "colab": {
          "base_uri": "https://localhost:8080/"
        },
        "id": "tZUTDiflq3qB",
        "outputId": "ac129e13-15db-4111-e5b7-b34b93fe7d65"
      },
      "outputs": [
        {
          "output_type": "stream",
          "name": "stdout",
          "text": [
            "Welcome to the PyPassword Generator!\n",
            "How many letters would you like in your password?\n",
            "3\n",
            "How many symbols would you like?\n",
            "4\n",
            "How many numbers would you like?\n",
            "2\n",
            "&0f()&RZ2\n"
          ]
        }
      ],
      "source": [
        "import random\n",
        "letters = ['a', 'b', 'c', 'd', 'e', 'f', 'g', 'h', 'i', 'j', 'k', 'l', 'm', 'n', 'o', 'p', 'q', 'r', 's', 't', 'u', 'v', 'w', 'x', 'y', 'z', 'A', 'B', 'C', 'D', 'E', 'F', 'G', 'H', 'I', 'J', 'K', 'L', 'M', 'N', 'O', 'P', 'Q', 'R', 'S', 'T', 'U', 'V', 'W', 'X', 'Y', 'Z']\n",
        "numbers = ['0', '1', '2', '3', '4', '5', '6', '7', '8', '9']\n",
        "symbols = ['!', '#', '$', '%', '&', '(', ')', '*', '+']\n",
        "\n",
        "print(\"Welcome to the PyPassword Generator!\")\n",
        "nr_letters = int(input(\"How many letters would you like in your password?\\n\"))\n",
        "nr_symbols = int(input(f\"How many symbols would you like?\\n\"))\n",
        "nr_numbers = int(input(f\"How many numbers would you like?\\n\"))\n",
        "new_password=[]\n",
        "for i in range(nr_letters):\n",
        "    no_of_letters=random.choice(letters)\n",
        "    new_password.append(no_of_letters)\n",
        "for i in range(nr_symbols):\n",
        "    no_of_symbols=random.choice(symbols)\n",
        "    new_password.append(no_of_symbols)\n",
        "for i in range(nr_numbers):\n",
        "    no_of_numbers=random.choice(numbers)\n",
        "    new_password.append(no_of_numbers)\n",
        "random.shuffle(new_password)\n",
        "sentance=' '.join(new_password)\n",
        "new_sentance=sentance.replace(\" \",\"\")\n",
        "print(new_sentance)\n"
      ]
    },
    {
      "cell_type": "code",
      "source": [],
      "metadata": {
        "id": "CkP8b5s8q6yv"
      },
      "execution_count": null,
      "outputs": []
    }
  ]
}