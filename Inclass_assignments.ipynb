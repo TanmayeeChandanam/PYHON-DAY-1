{
  "nbformat": 4,
  "nbformat_minor": 0,
  "metadata": {
    "colab": {
      "provenance": [],
      "toc_visible": true,
      "authorship_tag": "ABX9TyOoJYPYgdpSL+/hN4mb/muQ",
      "include_colab_link": true
    },
    "kernelspec": {
      "name": "python3",
      "display_name": "Python 3"
    },
    "language_info": {
      "name": "python"
    }
  },
  "cells": [
    {
      "cell_type": "markdown",
      "metadata": {
        "id": "view-in-github",
        "colab_type": "text"
      },
      "source": [
        "<a href=\"https://colab.research.google.com/github/TanmayeeChandanam/PYHON-DAY-1/blob/main/Inclass_assignments.ipynb\" target=\"_parent\"><img src=\"https://colab.research.google.com/assets/colab-badge.svg\" alt=\"Open In Colab\"/></a>"
      ]
    },
    {
      "cell_type": "code",
      "execution_count": null,
      "metadata": {
        "colab": {
          "base_uri": "https://localhost:8080/"
        },
        "id": "6X1TuObBdhlq",
        "outputId": "09563922-5af1-4e4c-e852-50e1d839fd25"
      },
      "outputs": [
        {
          "output_type": "stream",
          "name": "stdout",
          "text": [
            "My Favourite food is Biryani,\n",
            " \t the subject which i like is Python, \n",
            " My most liked song is Shivers, \n",
            "  and finally my favourite movie is Baahubali,\n",
            " \t \n"
          ]
        }
      ],
      "source": [
        "food=\"Biryani\" #My favourite food\n",
        "Subject=\"Python\" #My favourite subject is python\n",
        "Song=\"Shivers\" #My favourite is\n",
        "Movie=\"Baahubali\"\n",
        "number=73\n",
        "fav=f\"My Favourite food is { food},\\n \\t the subject which i like is {Subject}, \\n My most liked song is {Song}, \\n  and finally my favourite movie is {Movie},\\n \\t \"\n",
        "print(fav)"
      ]
    },
    {
      "cell_type": "code",
      "source": [
        "a=int(input(\"enter a number:\"))\n",
        "b=int(input(\"Enter a number:\"))\n",
        "print(a+b)\n",
        "print(a-b)\n",
        "print(a*b)\n",
        "print(a/b)\n",
        "\n",
        "width=int(input(\"Enter the width of the rectangle\"))\n",
        "height=int(input(\"Enter the height of the rectangle\"))\n",
        "area=width*height\n",
        "print(area)\n",
        "\n",
        "\n",
        "Celsius=int(input(\"Enter the Celsius:\"))\n",
        "Fahrenheit=(Celsius*9/5)+32\n",
        "print(Fahrenheit)\n"
      ],
      "metadata": {
        "colab": {
          "base_uri": "https://localhost:8080/"
        },
        "id": "uL8B6gqyi2Yo",
        "outputId": "80491c91-66f1-488f-f558-cf62321daaef"
      },
      "execution_count": null,
      "outputs": [
        {
          "output_type": "stream",
          "name": "stdout",
          "text": [
            "enter a number:3\n",
            "Enter a number:4\n",
            "7\n",
            "-1\n",
            "0.75\n",
            "Enter the width of the rectangle30\n",
            "Enter the height of the rectangle40\n",
            "1200\n",
            "Enter the Celsius:50\n",
            "122.0\n"
          ]
        }
      ]
    },
    {
      "cell_type": "code",
      "source": [
        "import math"
      ],
      "metadata": {
        "id": "rVgnAaGypq-C"
      },
      "execution_count": null,
      "outputs": []
    },
    {
      "cell_type": "code",
      "source": [
        "pi=3.14\n",
        "radius=int(input(\"enter the input:\"))\n",
        "area=pi*radius**2\n",
        "result=math.sqrt(area)\n",
        "print(result)\n"
      ],
      "metadata": {
        "colab": {
          "base_uri": "https://localhost:8080/"
        },
        "id": "nKwS84xAuYDa",
        "outputId": "59190f91-5e64-45a5-cc6d-c1dc184669a5"
      },
      "execution_count": null,
      "outputs": [
        {
          "output_type": "stream",
          "name": "stdout",
          "text": [
            "enter the input:7\n",
            "12.404031602668546\n"
          ]
        }
      ]
    },
    {
      "cell_type": "code",
      "source": [
        "#Range Functions\n",
        "start,stop,step=10,35,3\n",
        "print(list(range(start,stop,step)))"
      ],
      "metadata": {
        "colab": {
          "base_uri": "https://localhost:8080/"
        },
        "id": "D72xMdjVlNVw",
        "outputId": "2a659415-9aec-4dd5-bc60-6f5c601ae7ec"
      },
      "execution_count": null,
      "outputs": [
        {
          "output_type": "stream",
          "name": "stdout",
          "text": [
            "[10, 13, 16, 19, 22, 25, 28, 31, 34]\n"
          ]
        }
      ]
    },
    {
      "cell_type": "code",
      "source": [
        "n=15\n",
        "for i in range(n):\n",
        "\n",
        "  print(i*i)"
      ],
      "metadata": {
        "colab": {
          "base_uri": "https://localhost:8080/"
        },
        "id": "6LKydsCblclt",
        "outputId": "009d882d-0348-4f48-f21e-3db0042ebcc7"
      },
      "execution_count": null,
      "outputs": [
        {
          "output_type": "stream",
          "name": "stdout",
          "text": [
            "0\n",
            "1\n",
            "4\n",
            "9\n",
            "16\n",
            "25\n",
            "36\n",
            "49\n",
            "64\n",
            "81\n",
            "100\n",
            "121\n",
            "144\n",
            "169\n",
            "196\n"
          ]
        }
      ]
    },
    {
      "cell_type": "code",
      "source": [
        "#class assignment\n",
        "n=int(input(\"enter the number of magical orbs:\"))\n",
        "\n",
        "for i in range(n):\n",
        "  final=10+(i*10)\n",
        "  print(final)\n",
        "\n"
      ],
      "metadata": {
        "colab": {
          "base_uri": "https://localhost:8080/"
        },
        "id": "cmc_4iXqlnqT",
        "outputId": "cc6fc7f2-738c-47dd-db00-4702eb357001"
      },
      "execution_count": 16,
      "outputs": [
        {
          "output_type": "stream",
          "name": "stdout",
          "text": [
            "enter the number of magical orbs:10\n",
            "10\n",
            "20\n",
            "30\n",
            "40\n",
            "50\n",
            "60\n",
            "70\n",
            "80\n",
            "90\n",
            "100\n"
          ]
        }
      ]
    },
    {
      "cell_type": "code",
      "source": [
        "n = int(input(\"Enter the number of orbs to summon: \"))\n",
        "\n",
        "# Initial energy level\n",
        "energy = 10\n",
        "\n",
        "for i in range(n):\n",
        "    print(f\"Orb {i + 1}: Energy Level {energy}\")\n",
        "    energy += 10\n"
      ],
      "metadata": {
        "id": "b0yGhAS9mldh",
        "colab": {
          "base_uri": "https://localhost:8080/"
        },
        "outputId": "1ebd46ef-aaed-4e85-d2dd-76f972fece3f"
      },
      "execution_count": 17,
      "outputs": [
        {
          "output_type": "stream",
          "name": "stdout",
          "text": [
            "Enter the number of orbs to summon: 10\n",
            "Orb 1: Energy Level 10\n",
            "Orb 2: Energy Level 20\n",
            "Orb 3: Energy Level 30\n",
            "Orb 4: Energy Level 40\n",
            "Orb 5: Energy Level 50\n",
            "Orb 6: Energy Level 60\n",
            "Orb 7: Energy Level 70\n",
            "Orb 8: Energy Level 80\n",
            "Orb 9: Energy Level 90\n",
            "Orb 10: Energy Level 100\n"
          ]
        }
      ]
    },
    {
      "cell_type": "code",
      "source": [
        "#multiplication\n",
        "n=int(input(\"enter a number:\"))\n",
        "\n",
        "for i in range(1,n+1):\n",
        "  print(f\"{n} * {i} = {n*i}\")"
      ],
      "metadata": {
        "colab": {
          "base_uri": "https://localhost:8080/"
        },
        "id": "l3MGYv4bu0Yp",
        "outputId": "98b1d92f-97c8-4169-bb22-7c5bc85fc397"
      },
      "execution_count": 33,
      "outputs": [
        {
          "output_type": "stream",
          "name": "stdout",
          "text": [
            "enter a number:9\n",
            "9 * 1 = 9\n",
            "9 * 2 = 18\n",
            "9 * 3 = 27\n",
            "9 * 4 = 36\n",
            "9 * 5 = 45\n",
            "9 * 6 = 54\n",
            "9 * 7 = 63\n",
            "9 * 8 = 72\n",
            "9 * 9 = 81\n"
          ]
        }
      ]
    },
    {
      "cell_type": "code",
      "source": [
        "#factorial\n",
        "n=int(input(\"enter a number:\"))\n",
        "i=1\n",
        "factorial=1\n",
        "while i<=n:\n",
        "  factorial*=i\n",
        "  i=i+1\n",
        "print(factorial)\n"
      ],
      "metadata": {
        "colab": {
          "base_uri": "https://localhost:8080/"
        },
        "id": "_cCZ2ibFvl0Y",
        "outputId": "4e7df36b-c907-46d7-bf93-3743c36b850d"
      },
      "execution_count": 38,
      "outputs": [
        {
          "output_type": "stream",
          "name": "stdout",
          "text": [
            "enter a number:5\n",
            "120\n"
          ]
        }
      ]
    },
    {
      "cell_type": "code",
      "source": [
        "#factorial using for loop\n",
        "n=int(input(\"enter a number:\"))\n",
        "fact=1\n",
        "for i in range(1,n):\n",
        "  fact*=n\n",
        "  i+=1\n",
        "print(fact)\n"
      ],
      "metadata": {
        "colab": {
          "base_uri": "https://localhost:8080/"
        },
        "id": "t-YGHljyy1Hr",
        "outputId": "dff39a46-0e08-4753-df88-0528ed922b6d"
      },
      "execution_count": 39,
      "outputs": [
        {
          "output_type": "stream",
          "name": "stdout",
          "text": [
            "enter a number:3\n",
            "9\n"
          ]
        }
      ]
    },
    {
      "cell_type": "code",
      "source": [
        "final = 0\n",
        "\n",
        "while True:  # Infinite loop for continuous input\n",
        "    i = int(input(\"Enter a number: \"))  # Take input\n",
        "\n",
        "    if i < 0:  # Check if the number is negative\n",
        "        print(\"No negative numbers allowed!\")\n",
        "        break  # Exit the loop if negative number is entered\n",
        "\n",
        "    final += i  # Add the number to final sum\n",
        "\n",
        "    print(\"Current sum:\", final)\n",
        "\n",
        "print(\"Final sum:\", final)\n"
      ],
      "metadata": {
        "colab": {
          "base_uri": "https://localhost:8080/"
        },
        "id": "oPELXqaS198u",
        "outputId": "f428b7f5-7ef2-4258-df09-5b37b8c6c862"
      },
      "execution_count": 66,
      "outputs": [
        {
          "output_type": "stream",
          "name": "stdout",
          "text": [
            "Enter a number: 6\n",
            "Current sum: 6\n",
            "Enter a number: 6\n",
            "Current sum: 12\n",
            "Enter a number: -9\n",
            "No negative numbers allowed!\n",
            "Final sum: 12\n"
          ]
        }
      ]
    },
    {
      "cell_type": "code",
      "source": [
        "for i in range(1,100):\n",
        "  if i%5==0 and i%2==1:\n",
        "    continue\n",
        "  print(i)\n",
        "\n"
      ],
      "metadata": {
        "colab": {
          "base_uri": "https://localhost:8080/"
        },
        "id": "G0LlI3dq6R4I",
        "outputId": "7780eb19-f800-4706-8dbd-1c107746847b"
      },
      "execution_count": 70,
      "outputs": [
        {
          "output_type": "stream",
          "name": "stdout",
          "text": [
            "1\n",
            "2\n",
            "3\n",
            "4\n",
            "6\n",
            "7\n",
            "8\n",
            "9\n",
            "10\n",
            "11\n",
            "12\n",
            "13\n",
            "14\n",
            "16\n",
            "17\n",
            "18\n",
            "19\n",
            "20\n",
            "21\n",
            "22\n",
            "23\n",
            "24\n",
            "26\n",
            "27\n",
            "28\n",
            "29\n",
            "30\n",
            "31\n",
            "32\n",
            "33\n",
            "34\n",
            "36\n",
            "37\n",
            "38\n",
            "39\n",
            "40\n",
            "41\n",
            "42\n",
            "43\n",
            "44\n",
            "46\n",
            "47\n",
            "48\n",
            "49\n",
            "50\n",
            "51\n",
            "52\n",
            "53\n",
            "54\n",
            "56\n",
            "57\n",
            "58\n",
            "59\n",
            "60\n",
            "61\n",
            "62\n",
            "63\n",
            "64\n",
            "66\n",
            "67\n",
            "68\n",
            "69\n",
            "70\n",
            "71\n",
            "72\n",
            "73\n",
            "74\n",
            "76\n",
            "77\n",
            "78\n",
            "79\n",
            "80\n",
            "81\n",
            "82\n",
            "83\n",
            "84\n",
            "86\n",
            "87\n",
            "88\n",
            "89\n",
            "90\n",
            "91\n",
            "92\n",
            "93\n",
            "94\n",
            "96\n",
            "97\n",
            "98\n",
            "99\n"
          ]
        }
      ]
    },
    {
      "cell_type": "code",
      "source": [],
      "metadata": {
        "id": "68T0zLOK-ZhR"
      },
      "execution_count": null,
      "outputs": []
    }
  ]
}